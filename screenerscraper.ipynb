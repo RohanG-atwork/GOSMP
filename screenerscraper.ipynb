{
 "cells": [
  {
   "cell_type": "code",
   "execution_count": 1,
   "metadata": {},
   "outputs": [],
   "source": [
    "import bs4\n",
    "import requests"
   ]
  },
  {
   "cell_type": "code",
   "execution_count": 36,
   "metadata": {},
   "outputs": [],
   "source": [
    "data = requests.get(\n",
    "    \"https://www.screener.in/login/\", headers={\"User-Agent\":\"Mozilla/5.0 (Windows NT 10.0; Win64; x64) AppleWebKit/537.36 (KHTML, like Gecko) Chrome/119.0.0.0 Safari/537.36 OPR/105.0.0.0\"})"
   ]
  },
  {
   "cell_type": "code",
   "execution_count": 37,
   "metadata": {},
   "outputs": [],
   "source": [
    "cook = data.cookies"
   ]
  },
  {
   "cell_type": "code",
   "execution_count": 38,
   "metadata": {},
   "outputs": [],
   "source": [
    "soup = bs4.BeautifulSoup(\n",
    "    data.content\n",
    ")"
   ]
  },
  {
   "cell_type": "code",
   "execution_count": 41,
   "metadata": {},
   "outputs": [
    {
     "data": {
      "text/plain": [
       "'NunwOQpCXUrfKfQxJSDeg8MPpNupN9SwKsmgg14ETQtg9h9a7sttrVCWkDOV3w6g'"
      ]
     },
     "execution_count": 41,
     "metadata": {},
     "output_type": "execute_result"
    }
   ],
   "source": [
    "val = soup.find(\"input\",{\"name\":\"csrfmiddlewaretoken\"}).attrs[\"value\"]\n",
    "val"
   ]
  },
  {
   "cell_type": "code",
   "execution_count": 44,
   "metadata": {},
   "outputs": [],
   "source": [
    "login = requests.post(\"https://www.screener.in/login/\", json={\n",
    "    \"csrfmiddlewaretoken\":val,\n",
    "    \"username\":\"ayushdeshpande81@gmail.com\",\n",
    "    \"password\":\"abcdefgh\"\n",
    "},cookies=cook)"
   ]
  },
  {
   "cell_type": "code",
   "execution_count": 45,
   "metadata": {},
   "outputs": [],
   "source": [
    "soup = bs4.BeautifulSoup(login.content)"
   ]
  },
  {
   "cell_type": "code",
   "execution_count": 46,
   "metadata": {},
   "outputs": [
    {
     "data": {
      "text/plain": [
       "<!DOCTYPE html>\n",
       "<html lang=\"en\">\n",
       "<head>\n",
       "<meta content=\"text/html; charset=utf-8\" http-equiv=\"content-type\"/>\n",
       "<meta content=\"NONE,NOARCHIVE\" name=\"robots\"/>\n",
       "<title>403 Forbidden</title>\n",
       "<style type=\"text/css\">\n",
       "    html * { padding:0; margin:0; }\n",
       "    body * { padding:10px 20px; }\n",
       "    body * * { padding:0; }\n",
       "    body { font:small sans-serif; background:#eee; color:#000; }\n",
       "    body>div { border-bottom:1px solid #ddd; }\n",
       "    h1 { font-weight:normal; margin-bottom:.4em; }\n",
       "    h1 span { font-size:60%; color:#666; font-weight:normal; }\n",
       "    #info { background:#f6f6f6; }\n",
       "    #info ul { margin: 0.5em 4em; }\n",
       "    #info p, #summary p { padding-top:10px; }\n",
       "    #summary { background: #ffc; }\n",
       "    #explanation { background:#eee; border-bottom: 0px none; }\n",
       "  </style>\n",
       "</head>\n",
       "<body>\n",
       "<div id=\"summary\">\n",
       "<h1>Forbidden <span>(403)</span></h1>\n",
       "<p>CSRF verification failed. Request aborted.</p>\n",
       "<p>You are seeing this message because this HTTPS site requires a “Referer header” to be sent by your web browser, but none was sent. This header is required for security reasons, to ensure that your browser is not being hijacked by third parties.</p>\n",
       "<p>If you have configured your browser to disable “Referer” headers, please re-enable them, at least for this site, or for HTTPS connections, or for “same-origin” requests.</p>\n",
       "<p>If you are using the &lt;meta name=\"referrer\" content=\"no-referrer\"&gt; tag or including the “Referrer-Policy: no-referrer” header, please remove them. The CSRF protection requires the “Referer” header to do strict referer checking. If you’re concerned about privacy, use alternatives like &lt;a rel=\"noreferrer\" …&gt; for links to third-party sites.</p>\n",
       "</div>\n",
       "<div id=\"explanation\">\n",
       "<p><small>More information is available with DEBUG=True.</small></p>\n",
       "</div>\n",
       "</body>\n",
       "</html>"
      ]
     },
     "execution_count": 46,
     "metadata": {},
     "output_type": "execute_result"
    }
   ],
   "source": [
    "soup"
   ]
  },
  {
   "cell_type": "code",
   "execution_count": null,
   "metadata": {},
   "outputs": [],
   "source": []
  },
  {
   "cell_type": "code",
   "execution_count": null,
   "metadata": {},
   "outputs": [],
   "source": []
  }
 ],
 "metadata": {
  "kernelspec": {
   "display_name": "venv",
   "language": "python",
   "name": "python3"
  },
  "language_info": {
   "codemirror_mode": {
    "name": "ipython",
    "version": 3
   },
   "file_extension": ".py",
   "mimetype": "text/x-python",
   "name": "python",
   "nbconvert_exporter": "python",
   "pygments_lexer": "ipython3",
   "version": "3.10.9"
  }
 },
 "nbformat": 4,
 "nbformat_minor": 2
}
